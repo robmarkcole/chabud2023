{
 "cells": [
  {
   "cell_type": "markdown",
   "id": "c82359ab-bdd3-484e-9bf9-910ad7b2d17d",
   "metadata": {},
   "source": [
    "# Change detection for Burned area Delineation (ChaBuD)\n",
    "\n",
    "Welcome to the ChaBuD repo!\n",
    "Follow the instructions in the [README.md](./README.md)\n",
    "file to get started on running the change detection model."
   ]
  },
  {
   "cell_type": "code",
   "execution_count": 3,
   "id": "841999af",
   "metadata": {},
   "outputs": [],
   "source": [
    "# !pip install -r chabud2023/requirements.txt"
   ]
  },
  {
   "cell_type": "code",
   "execution_count": 4,
   "id": "11094178-9a3d-4f0e-b6e2-b783f49c6bf7",
   "metadata": {
    "tags": []
   },
   "outputs": [
    {
     "name": "stdout",
     "output_type": "stream",
     "text": [
      "\u001b[34m\u001b[1mwandb\u001b[0m: (1) Create a W&B account\n",
      "\u001b[34m\u001b[1mwandb\u001b[0m: (2) Use an existing W&B account\n",
      "\u001b[34m\u001b[1mwandb\u001b[0m: (3) Don't visualize my results\n",
      "\u001b[34m\u001b[1mwandb\u001b[0m: Enter your choice: ^C\n",
      "Traceback (most recent call last):\n",
      "  File \"/teamspace/studios/this_studio/chabud2023/trainer.py\", line 125, in <module>\n",
      "    main()\n",
      "  File \"/teamspace/studios/this_studio/chabud2023/trainer.py\", line 36, in main\n",
      "    wandb_logger = WandbLogger(\n",
      "  File \"/home/zeus/miniconda3/envs/cloudspace/lib/python3.10/site-packages/lightning/pytorch/loggers/wandb.py\", line 360, in __init__\n",
      "    _ = self.experiment\n",
      "  File \"/home/zeus/miniconda3/envs/cloudspace/lib/python3.10/site-packages/lightning/fabric/loggers/logger.py\", line 118, in experiment\n",
      "    return fn(self)\n",
      "  File \"/home/zeus/miniconda3/envs/cloudspace/lib/python3.10/site-packages/lightning/pytorch/loggers/wandb.py\", line 408, in experiment\n",
      "    self._experiment = wandb.init(**self._wandb_init)\n",
      "  File \"/home/zeus/miniconda3/envs/cloudspace/lib/python3.10/site-packages/wandb/sdk/wandb_init.py\", line 1193, in init\n",
      "    raise e\n",
      "  File \"/home/zeus/miniconda3/envs/cloudspace/lib/python3.10/site-packages/wandb/sdk/wandb_init.py\", line 1166, in init\n",
      "    wi.setup(kwargs)\n",
      "  File \"/home/zeus/miniconda3/envs/cloudspace/lib/python3.10/site-packages/wandb/sdk/wandb_init.py\", line 308, in setup\n",
      "    wandb_login._login(\n",
      "  File \"/home/zeus/miniconda3/envs/cloudspace/lib/python3.10/site-packages/wandb/sdk/wandb_login.py\", line 298, in _login\n",
      "    wlogin.prompt_api_key()\n",
      "  File \"/home/zeus/miniconda3/envs/cloudspace/lib/python3.10/site-packages/wandb/sdk/wandb_login.py\", line 221, in prompt_api_key\n",
      "    key, status = self._prompt_api_key()\n",
      "  File \"/home/zeus/miniconda3/envs/cloudspace/lib/python3.10/site-packages/wandb/sdk/wandb_login.py\", line 201, in _prompt_api_key\n",
      "    key = apikey.prompt_api_key(\n",
      "  File \"/home/zeus/miniconda3/envs/cloudspace/lib/python3.10/site-packages/wandb/sdk/lib/apikey.py\", line 107, in prompt_api_key\n",
      "    result = prompt_choices(\n",
      "  File \"/home/zeus/miniconda3/envs/cloudspace/lib/python3.10/site-packages/wandb/util.py\", line 1264, in prompt_choices\n",
      "    choice = _prompt_choice(input_timeout=input_timeout, jupyter=jupyter)\n",
      "  File \"/home/zeus/miniconda3/envs/cloudspace/lib/python3.10/site-packages/wandb/util.py\", line 1247, in _prompt_choice\n",
      "    choice = input_fn(text)\n",
      "KeyboardInterrupt\n"
     ]
    }
   ],
   "source": [
    "!python chabud2023/trainer.py test --help"
   ]
  },
  {
   "cell_type": "code",
   "execution_count": null,
   "id": "c12902b6",
   "metadata": {},
   "outputs": [],
   "source": []
  }
 ],
 "metadata": {
  "kernelspec": {
   "display_name": "Python 3 (ipykernel)",
   "language": "python",
   "name": "python3"
  },
  "language_info": {
   "codemirror_mode": {
    "name": "ipython",
    "version": 3
   },
   "file_extension": ".py",
   "mimetype": "text/x-python",
   "name": "python",
   "nbconvert_exporter": "python",
   "pygments_lexer": "ipython3",
   "version": "3.10.11"
  }
 },
 "nbformat": 4,
 "nbformat_minor": 5
}
